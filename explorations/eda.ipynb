{
 "cells": [
  {
   "cell_type": "markdown",
   "id": "73bf052e",
   "metadata": {},
   "source": [
    "# A first look at the dataset"
   ]
  },
  {
   "cell_type": "code",
   "execution_count": 1,
   "id": "02c7101d",
   "metadata": {},
   "outputs": [],
   "source": [
    "from taxipred.backend.data_processing import TaxiData\n",
    "from taxipred.utils.constants import ORIGINAL_CSV_PATH,ALTERED_CSV_PATH\n",
    "taxidata = TaxiData(ORIGINAL_CSV_PATH)"
   ]
  },
  {
   "cell_type": "code",
   "execution_count": 2,
   "id": "ad77ec11",
   "metadata": {},
   "outputs": [
    {
     "name": "stdout",
     "output_type": "stream",
     "text": [
      "<class 'pandas.core.frame.DataFrame'>\n",
      "RangeIndex: 1000 entries, 0 to 999\n",
      "Data columns (total 11 columns):\n",
      " #   Column                 Non-Null Count  Dtype  \n",
      "---  ------                 --------------  -----  \n",
      " 0   Trip_Distance_km       950 non-null    float64\n",
      " 1   Time_of_Day            950 non-null    object \n",
      " 2   Day_of_Week            950 non-null    object \n",
      " 3   Passenger_Count        950 non-null    float64\n",
      " 4   Traffic_Conditions     950 non-null    object \n",
      " 5   Weather                950 non-null    object \n",
      " 6   Base_Fare              950 non-null    float64\n",
      " 7   Per_Km_Rate            950 non-null    float64\n",
      " 8   Per_Minute_Rate        950 non-null    float64\n",
      " 9   Trip_Duration_Minutes  950 non-null    float64\n",
      " 10  Trip_Price             951 non-null    float64\n",
      "dtypes: float64(7), object(4)\n",
      "memory usage: 86.1+ KB\n"
     ]
    }
   ],
   "source": [
    "# use info to see the column names aswell as number of nullvalues aswell as typing\n",
    "taxidata.df.info()\n"
   ]
  },
  {
   "cell_type": "code",
   "execution_count": 3,
   "id": "a11c0744",
   "metadata": {},
   "outputs": [
    {
     "name": "stdout",
     "output_type": "stream",
     "text": [
      "Time_of_Day\n",
      "Afternoon    371\n",
      "Morning      283\n",
      "Evening      203\n",
      "Night         93\n",
      "Name: count, dtype: int64\n",
      "Day_of_Week\n",
      "Weekday    655\n",
      "Weekend    295\n",
      "Name: count, dtype: int64\n",
      "Passenger_Count\n",
      "3.0    251\n",
      "2.0    241\n",
      "1.0    238\n",
      "4.0    220\n",
      "Name: count, dtype: int64\n",
      "Traffic_Conditions\n",
      "Low       397\n",
      "Medium    371\n",
      "High      182\n",
      "Name: count, dtype: int64\n",
      "Weather\n",
      "Clear    667\n",
      "Rain     227\n",
      "Snow      56\n",
      "Name: count, dtype: int64\n"
     ]
    }
   ],
   "source": [
    "# checking valuecounts to see if any categorical columns are misspelled\n",
    "from taxipred.backend.data_processing import find_categorical_columns\n",
    "cat_cols = find_categorical_columns(taxidata.df)\n",
    "for name in cat_cols:\n",
    "    print(taxidata.df[name].value_counts())"
   ]
  },
  {
   "cell_type": "markdown",
   "id": "0cd1b077",
   "metadata": {},
   "source": [
    "### no misspelled rows for categorical\n",
    "i found that the actual values inside the categorical columns are misspelled"
   ]
  },
  {
   "cell_type": "code",
   "execution_count": 4,
   "id": "0bca2398",
   "metadata": {},
   "outputs": [
    {
     "data": {
      "text/html": [
       "<div>\n",
       "<style scoped>\n",
       "    .dataframe tbody tr th:only-of-type {\n",
       "        vertical-align: middle;\n",
       "    }\n",
       "\n",
       "    .dataframe tbody tr th {\n",
       "        vertical-align: top;\n",
       "    }\n",
       "\n",
       "    .dataframe thead th {\n",
       "        text-align: right;\n",
       "    }\n",
       "</style>\n",
       "<table border=\"1\" class=\"dataframe\">\n",
       "  <thead>\n",
       "    <tr style=\"text-align: right;\">\n",
       "      <th></th>\n",
       "      <th>Trip_Distance_km</th>\n",
       "      <th>Time_of_Day</th>\n",
       "      <th>Day_of_Week</th>\n",
       "      <th>Passenger_Count</th>\n",
       "      <th>Traffic_Conditions</th>\n",
       "      <th>Weather</th>\n",
       "      <th>Base_Fare</th>\n",
       "      <th>Per_Km_Rate</th>\n",
       "      <th>Per_Minute_Rate</th>\n",
       "      <th>Trip_Duration_Minutes</th>\n",
       "      <th>Trip_Price</th>\n",
       "    </tr>\n",
       "  </thead>\n",
       "  <tbody>\n",
       "    <tr>\n",
       "      <th>0</th>\n",
       "      <td>19.35</td>\n",
       "      <td>Morning</td>\n",
       "      <td>Weekday</td>\n",
       "      <td>3.0</td>\n",
       "      <td>Low</td>\n",
       "      <td>Clear</td>\n",
       "      <td>3.56</td>\n",
       "      <td>0.80</td>\n",
       "      <td>0.32</td>\n",
       "      <td>53.82</td>\n",
       "      <td>36.2624</td>\n",
       "    </tr>\n",
       "    <tr>\n",
       "      <th>1</th>\n",
       "      <td>47.59</td>\n",
       "      <td>Afternoon</td>\n",
       "      <td>Weekday</td>\n",
       "      <td>1.0</td>\n",
       "      <td>High</td>\n",
       "      <td>Clear</td>\n",
       "      <td>NaN</td>\n",
       "      <td>0.62</td>\n",
       "      <td>0.43</td>\n",
       "      <td>40.57</td>\n",
       "      <td>NaN</td>\n",
       "    </tr>\n",
       "    <tr>\n",
       "      <th>2</th>\n",
       "      <td>36.87</td>\n",
       "      <td>Evening</td>\n",
       "      <td>Weekend</td>\n",
       "      <td>1.0</td>\n",
       "      <td>High</td>\n",
       "      <td>Clear</td>\n",
       "      <td>2.70</td>\n",
       "      <td>1.21</td>\n",
       "      <td>0.15</td>\n",
       "      <td>37.27</td>\n",
       "      <td>52.9032</td>\n",
       "    </tr>\n",
       "    <tr>\n",
       "      <th>3</th>\n",
       "      <td>30.33</td>\n",
       "      <td>Evening</td>\n",
       "      <td>Weekday</td>\n",
       "      <td>4.0</td>\n",
       "      <td>Low</td>\n",
       "      <td>NaN</td>\n",
       "      <td>3.48</td>\n",
       "      <td>0.51</td>\n",
       "      <td>0.15</td>\n",
       "      <td>116.81</td>\n",
       "      <td>36.4698</td>\n",
       "    </tr>\n",
       "    <tr>\n",
       "      <th>4</th>\n",
       "      <td>NaN</td>\n",
       "      <td>Evening</td>\n",
       "      <td>Weekday</td>\n",
       "      <td>3.0</td>\n",
       "      <td>High</td>\n",
       "      <td>Clear</td>\n",
       "      <td>2.93</td>\n",
       "      <td>0.63</td>\n",
       "      <td>0.32</td>\n",
       "      <td>22.64</td>\n",
       "      <td>15.6180</td>\n",
       "    </tr>\n",
       "    <tr>\n",
       "      <th>5</th>\n",
       "      <td>8.64</td>\n",
       "      <td>Afternoon</td>\n",
       "      <td>Weekend</td>\n",
       "      <td>2.0</td>\n",
       "      <td>Medium</td>\n",
       "      <td>Clear</td>\n",
       "      <td>2.55</td>\n",
       "      <td>1.71</td>\n",
       "      <td>0.48</td>\n",
       "      <td>89.33</td>\n",
       "      <td>60.2028</td>\n",
       "    </tr>\n",
       "    <tr>\n",
       "      <th>6</th>\n",
       "      <td>3.85</td>\n",
       "      <td>Afternoon</td>\n",
       "      <td>Weekday</td>\n",
       "      <td>4.0</td>\n",
       "      <td>High</td>\n",
       "      <td>Rain</td>\n",
       "      <td>3.51</td>\n",
       "      <td>1.66</td>\n",
       "      <td>NaN</td>\n",
       "      <td>5.05</td>\n",
       "      <td>11.2645</td>\n",
       "    </tr>\n",
       "    <tr>\n",
       "      <th>7</th>\n",
       "      <td>43.44</td>\n",
       "      <td>Evening</td>\n",
       "      <td>Weekend</td>\n",
       "      <td>3.0</td>\n",
       "      <td>NaN</td>\n",
       "      <td>Clear</td>\n",
       "      <td>2.97</td>\n",
       "      <td>1.87</td>\n",
       "      <td>0.23</td>\n",
       "      <td>NaN</td>\n",
       "      <td>101.1216</td>\n",
       "    </tr>\n",
       "    <tr>\n",
       "      <th>8</th>\n",
       "      <td>30.45</td>\n",
       "      <td>Morning</td>\n",
       "      <td>Weekday</td>\n",
       "      <td>3.0</td>\n",
       "      <td>High</td>\n",
       "      <td>Clear</td>\n",
       "      <td>2.77</td>\n",
       "      <td>1.78</td>\n",
       "      <td>0.34</td>\n",
       "      <td>110.33</td>\n",
       "      <td>NaN</td>\n",
       "    </tr>\n",
       "    <tr>\n",
       "      <th>9</th>\n",
       "      <td>35.70</td>\n",
       "      <td>Afternoon</td>\n",
       "      <td>Weekday</td>\n",
       "      <td>2.0</td>\n",
       "      <td>Low</td>\n",
       "      <td>Rain</td>\n",
       "      <td>3.39</td>\n",
       "      <td>1.52</td>\n",
       "      <td>0.47</td>\n",
       "      <td>NaN</td>\n",
       "      <td>75.5657</td>\n",
       "    </tr>\n",
       "  </tbody>\n",
       "</table>\n",
       "</div>"
      ],
      "text/plain": [
       "   Trip_Distance_km Time_of_Day Day_of_Week  Passenger_Count  \\\n",
       "0             19.35     Morning     Weekday              3.0   \n",
       "1             47.59   Afternoon     Weekday              1.0   \n",
       "2             36.87     Evening     Weekend              1.0   \n",
       "3             30.33     Evening     Weekday              4.0   \n",
       "4               NaN     Evening     Weekday              3.0   \n",
       "5              8.64   Afternoon     Weekend              2.0   \n",
       "6              3.85   Afternoon     Weekday              4.0   \n",
       "7             43.44     Evening     Weekend              3.0   \n",
       "8             30.45     Morning     Weekday              3.0   \n",
       "9             35.70   Afternoon     Weekday              2.0   \n",
       "\n",
       "  Traffic_Conditions Weather  Base_Fare  Per_Km_Rate  Per_Minute_Rate  \\\n",
       "0                Low   Clear       3.56         0.80             0.32   \n",
       "1               High   Clear        NaN         0.62             0.43   \n",
       "2               High   Clear       2.70         1.21             0.15   \n",
       "3                Low     NaN       3.48         0.51             0.15   \n",
       "4               High   Clear       2.93         0.63             0.32   \n",
       "5             Medium   Clear       2.55         1.71             0.48   \n",
       "6               High    Rain       3.51         1.66              NaN   \n",
       "7                NaN   Clear       2.97         1.87             0.23   \n",
       "8               High   Clear       2.77         1.78             0.34   \n",
       "9                Low    Rain       3.39         1.52             0.47   \n",
       "\n",
       "   Trip_Duration_Minutes  Trip_Price  \n",
       "0                  53.82     36.2624  \n",
       "1                  40.57         NaN  \n",
       "2                  37.27     52.9032  \n",
       "3                 116.81     36.4698  \n",
       "4                  22.64     15.6180  \n",
       "5                  89.33     60.2028  \n",
       "6                   5.05     11.2645  \n",
       "7                    NaN    101.1216  \n",
       "8                 110.33         NaN  \n",
       "9                    NaN     75.5657  "
      ]
     },
     "execution_count": 4,
     "metadata": {},
     "output_type": "execute_result"
    }
   ],
   "source": [
    "# checking the actual look of the dataset. to better understand the columns\n",
    "taxidata.df.head(10)\n"
   ]
  },
  {
   "cell_type": "code",
   "execution_count": 5,
   "id": "ac32ea02",
   "metadata": {},
   "outputs": [
    {
     "name": "stdout",
     "output_type": "stream",
     "text": [
      "                       Trip_Distance_km  Passenger_Count  Base_Fare  \\\n",
      "Trip_Distance_km               1.000000        -0.048397   0.032218   \n",
      "Passenger_Count               -0.048397         1.000000   0.022932   \n",
      "Base_Fare                      0.032218         0.022932   1.000000   \n",
      "Per_Km_Rate                   -0.017041         0.030213   0.003092   \n",
      "Per_Minute_Rate               -0.025902         0.034068  -0.019150   \n",
      "Trip_Duration_Minutes         -0.022102         0.022845   0.012035   \n",
      "Trip_Price                     0.849123        -0.014223   0.035533   \n",
      "\n",
      "                       Per_Km_Rate  Per_Minute_Rate  Trip_Duration_Minutes  \\\n",
      "Trip_Distance_km         -0.017041        -0.025902              -0.022102   \n",
      "Passenger_Count           0.030213         0.034068               0.022845   \n",
      "Base_Fare                 0.003092        -0.019150               0.012035   \n",
      "Per_Km_Rate               1.000000         0.029241               0.027199   \n",
      "Per_Minute_Rate           0.029241         1.000000              -0.024230   \n",
      "Trip_Duration_Minutes     0.027199        -0.024230               1.000000   \n",
      "Trip_Price                0.275135         0.141226               0.221211   \n",
      "\n",
      "                       Trip_Price  \n",
      "Trip_Distance_km         0.849123  \n",
      "Passenger_Count         -0.014223  \n",
      "Base_Fare                0.035533  \n",
      "Per_Km_Rate              0.275135  \n",
      "Per_Minute_Rate          0.141226  \n",
      "Trip_Duration_Minutes    0.221211  \n",
      "Trip_Price               1.000000  \n"
     ]
    }
   ],
   "source": [
    "import numpy as np\n",
    "# figure out important correlations\n",
    "# suspecting abnormally close to 1 correlation in a couple of these columns\n",
    "matrix = taxidata.df.select_dtypes(include=np.number).corr()\n",
    "print(matrix)"
   ]
  },
  {
   "cell_type": "markdown",
   "id": "f862af9c",
   "metadata": {},
   "source": [
    "## My Feature Selection Plan and Justification\n",
    "\n",
    "### The Main Predictor\n",
    "After looking at the data, it's obvious that **`Trip_Distance_km`** is the biggest factor for the **`Trip_Price`**. My correlation check proved this with a strong positive value, so it's the main feature I'll be using.\n",
    "\n",
    "***\n",
    "### Dropping Columns to Avoid Data Leakage\n",
    "\n",
    "I'm dropping several columns to ensure my model is realistic and doesn't \"cheat\" by looking at parts of the answer.\n",
    "\n",
    "**Fare Component Columns (`Base_Fare`, Rates, etc.)**\n",
    "\n",
    "My initial thought was that **`Base_Fare`**, **`Per_Km_Rate`**, and **`Per_Minute_Rate`** are used to calculate the final price. The low correlation values were confusing, so I decided to manually verify this to be sure.\n",
    "\n",
    "First, I needed a complete row of data to work with, so I chose **Row 0** since it had no missing values. Based on the column names, I pieced together the most likely formula:\n",
    "\n",
    "`Total Price = Base_Fare + (Trip_Distance_km * Per_Km_Rate) + (Trip_Duration_Minutes * Per_Minute_Rate)`\n",
    "\n",
    "I then plugged in the numbers from Row 0 to test this theory:\n",
    "\n",
    "* **Base Fare:** `3.56`\n",
    "* **Distance Cost:** `19.35 km * 0.80` = `15.48`\n",
    "* **Duration Cost:** `53.82 min * 0.32` = `17.2224`\n",
    "\n",
    "When I summed these components, the result was **36.2624**, which was a perfect match for the actual **`Trip_Price`**. This test confirmed that the price is a direct result of these columns, proving the data leakage I suspected.\n",
    "\n",
    "**The Trip Duration Problem**\n",
    "\n",
    "I'm also dropping **`Trip_Duration_Minutes`**. This was a tricky one since duration and price are clearly connected. However, the column in this dataset is the *actual* time the trip took, which is something I'd only know *after* it's over. For my model to be realistic, it has to predict the price from stuff I'd know at the start.\n",
    "\n",
    "If I had start and stop locations, I would have used an API to get an *estimated* duration and used that as a feature. Since I don't have that, using the actual duration is just cheating.\n",
    "\n",
    "***\n",
    "### Final Approach\n",
    "\n",
    "Based on this, I'll move forward using **`Trip_Distance_km`** and my categorical features: **`Time_of_Day`** , **`Day_of_Week`**,**`Passenger_Count`**,`Traffic_Conditions` to build the model."
   ]
  },
  {
   "cell_type": "markdown",
   "id": "ae40b0dd",
   "metadata": {},
   "source": []
  },
  {
   "cell_type": "markdown",
   "id": "ade646a9",
   "metadata": {},
   "source": [
    "### Repairing Key Columns Using the Fare Formula\n",
    "\n",
    "Now that the exact mathematical formula connecting the fare components has been identified, I can use it as a powerful tool for data repair.\n",
    "\n",
    "By algebraically rearranging this formula, it's possible to calculate and fill in missing values for my key columns—the target variable **`Trip_Price`** and the main feature **`Trip_Distance_km`**. This is a deterministic process that allows me to repair these values with 100% accuracy, salvaging valuable rows that would otherwise be dropped."
   ]
  },
  {
   "cell_type": "code",
   "execution_count": 6,
   "id": "0ba11c6b",
   "metadata": {},
   "outputs": [
    {
     "name": "stdout",
     "output_type": "stream",
     "text": [
      "--- Before Repair ---\n",
      "Missing values in key columns:\n",
      "Trip_Price          49\n",
      "Trip_Distance_km    50\n",
      "dtype: int64\n",
      "-------------------------\n",
      "--- After Repair ---\n",
      "Missing values in key columns:\n",
      "Trip_Price          17\n",
      "Trip_Distance_km     6\n",
      "dtype: int64\n",
      "-------------------------\n"
     ]
    }
   ],
   "source": [
    "taxidata.repair_data_using_algebra()\n"
   ]
  },
  {
   "cell_type": "markdown",
   "id": "64e56358",
   "metadata": {},
   "source": [
    "### Uing imputation\n",
    "by using imputation i can fill in remaining nulls so long as there isnt more than 1 null value per row"
   ]
  },
  {
   "cell_type": "code",
   "execution_count": 7,
   "id": "fb92574e",
   "metadata": {},
   "outputs": [
    {
     "name": "stdout",
     "output_type": "stream",
     "text": [
      "Attempting to fill column: Trip_Distance_km\n",
      "linear_regression_rsme=7.232077217461888\n",
      "random_forest_rsme=5.036266979411802\n",
      "Attempting to fill column: Time_of_Day\n",
      "Filled 44 values in Time_of_Day.\n",
      "Attempting to fill column: Day_of_Week\n",
      "Filled 39 values in Day_of_Week.\n",
      "Attempting to fill column: Passenger_Count\n",
      "Filled 39 values in Passenger_Count.\n",
      "Attempting to fill column: Traffic_Conditions\n",
      "Filled 41 values in Traffic_Conditions.\n",
      "Attempting to fill column: Weather\n",
      "Filled 43 values in Weather.\n",
      "Attempting to fill column: Base_Fare\n",
      "linear_regression_rsme=0.8821105715637994\n",
      "random_forest_rsme=0.9008168126532986\n",
      "Filled 38 values in Base_Fare.\n",
      "Attempting to fill column: Per_Km_Rate\n",
      "linear_regression_rsme=0.38464335019472146\n",
      "random_forest_rsme=0.29279016222892323\n",
      "Filled 39 values in Per_Km_Rate.\n",
      "Attempting to fill column: Per_Minute_Rate\n",
      "linear_regression_rsme=0.10416654850477229\n",
      "random_forest_rsme=0.09190225083133258\n",
      "Filled 45 values in Per_Minute_Rate.\n",
      "Attempting to fill column: Trip_Duration_Minutes\n",
      "linear_regression_rsme=29.946279335730065\n",
      "random_forest_rsme=20.510871568693233\n",
      "Filled 35 values in Trip_Duration_Minutes.\n",
      "Attempting to fill column: Trip_Price\n",
      "linear_regression_rsme=15.414075855160654\n",
      "random_forest_rsme=7.837099249269647\n",
      "Attempting to fill column: Trip_Distance_km\n",
      "linear_regression_rsme=7.8178364831606375\n",
      "random_forest_rsme=5.973137724886058\n",
      "Attempting to fill column: Time_of_Day\n",
      "Filled 6 values in Time_of_Day.\n",
      "Attempting to fill column: Day_of_Week\n",
      "Filled 9 values in Day_of_Week.\n",
      "Attempting to fill column: Passenger_Count\n",
      "Filled 9 values in Passenger_Count.\n",
      "Attempting to fill column: Traffic_Conditions\n",
      "Filled 8 values in Traffic_Conditions.\n",
      "Attempting to fill column: Weather\n",
      "Filled 5 values in Weather.\n",
      "Attempting to fill column: Base_Fare\n",
      "linear_regression_rsme=0.8777788848042795\n",
      "random_forest_rsme=0.9263557171084971\n",
      "Attempting to fill column: Per_Km_Rate\n",
      "linear_regression_rsme=0.3756691384599857\n",
      "random_forest_rsme=0.29095182454423374\n",
      "Attempting to fill column: Per_Minute_Rate\n",
      "linear_regression_rsme=0.1055719025366341\n",
      "random_forest_rsme=0.08145841082366834\n",
      "Attempting to fill column: Trip_Duration_Minutes\n",
      "linear_regression_rsme=28.170003199204718\n",
      "random_forest_rsme=19.768901678077086\n",
      "Attempting to fill column: Trip_Price\n",
      "linear_regression_rsme=15.398746238582092\n",
      "random_forest_rsme=7.8688936261969635\n",
      "Attempting to fill column: Trip_Distance_km\n",
      "linear_regression_rsme=7.786977393361659\n",
      "random_forest_rsme=6.014757363638622\n",
      "Attempting to fill column: Day_of_Week\n",
      "Filled 2 values in Day_of_Week.\n",
      "Attempting to fill column: Passenger_Count\n",
      "Filled 2 values in Passenger_Count.\n",
      "Attempting to fill column: Traffic_Conditions\n",
      "Filled 1 values in Traffic_Conditions.\n",
      "Attempting to fill column: Weather\n",
      "Filled 2 values in Weather.\n",
      "Attempting to fill column: Base_Fare\n",
      "linear_regression_rsme=0.8777788848042795\n",
      "random_forest_rsme=0.9263557171084971\n",
      "Attempting to fill column: Per_Km_Rate\n",
      "linear_regression_rsme=0.3756691384599857\n",
      "random_forest_rsme=0.29095182454423374\n",
      "Attempting to fill column: Per_Minute_Rate\n",
      "linear_regression_rsme=0.1055719025366341\n",
      "random_forest_rsme=0.08145841082366834\n",
      "Attempting to fill column: Trip_Duration_Minutes\n",
      "linear_regression_rsme=28.170003199204718\n",
      "random_forest_rsme=19.768901678077086\n",
      "Attempting to fill column: Trip_Price\n",
      "linear_regression_rsme=15.398746238582092\n",
      "random_forest_rsme=7.8688936261969635\n",
      "Attempting to fill column: Trip_Distance_km\n",
      "linear_regression_rsme=7.786977393361659\n",
      "random_forest_rsme=6.014757363638622\n",
      "Attempting to fill column: Base_Fare\n",
      "linear_regression_rsme=0.8777788848042795\n",
      "random_forest_rsme=0.9263557171084971\n",
      "Attempting to fill column: Per_Km_Rate\n",
      "linear_regression_rsme=0.3756691384599857\n",
      "random_forest_rsme=0.29095182454423374\n",
      "Attempting to fill column: Per_Minute_Rate\n",
      "linear_regression_rsme=0.1055719025366341\n",
      "random_forest_rsme=0.08145841082366834\n",
      "Attempting to fill column: Trip_Duration_Minutes\n",
      "linear_regression_rsme=28.170003199204718\n",
      "random_forest_rsme=19.768901678077086\n",
      "Attempting to fill column: Trip_Price\n",
      "linear_regression_rsme=15.398746238582092\n",
      "random_forest_rsme=7.8688936261969635\n",
      "Could not fill any more NaNs. Exiting.\n"
     ]
    }
   ],
   "source": [
    "# iterating over each column as target using the rest as features until it cannot fill anymore nulls\n",
    "# this was the most timeconsuming portion of my project\n",
    "taxidata.repair_using_imputation()"
   ]
  },
  {
   "cell_type": "markdown",
   "id": "8e97feba",
   "metadata": {},
   "source": [
    "### Drop useless columns\n",
    "now i drop the columns which wont be included in model for predicting trip prices"
   ]
  },
  {
   "cell_type": "code",
   "execution_count": 8,
   "id": "b5037d91",
   "metadata": {},
   "outputs": [],
   "source": [
    "columns_to_drop = [\n",
    "    \"Base_Fare\",\n",
    "    \"Per_Km_Rate\",\n",
    "    \"Per_Minute_Rate\",\n",
    "    \"Trip_Duration_Minutes\",\n",
    "]\n",
    "taxidata.drop_columns(columns_to_drop)\n"
   ]
  },
  {
   "cell_type": "markdown",
   "id": "2d688a27",
   "metadata": {},
   "source": [
    "### Remaining nulls\n",
    "checking to see how distribution of remaining nulls look."
   ]
  },
  {
   "cell_type": "code",
   "execution_count": 9,
   "id": "83ce1eec",
   "metadata": {},
   "outputs": [
    {
     "name": "stdout",
     "output_type": "stream",
     "text": [
      "<class 'pandas.core.frame.DataFrame'>\n",
      "RangeIndex: 1000 entries, 0 to 999\n",
      "Data columns (total 7 columns):\n",
      " #   Column              Non-Null Count  Dtype  \n",
      "---  ------              --------------  -----  \n",
      " 0   Trip_Distance_km    994 non-null    float64\n",
      " 1   Time_of_Day         1000 non-null   object \n",
      " 2   Day_of_Week         1000 non-null   object \n",
      " 3   Passenger_Count     1000 non-null   float64\n",
      " 4   Traffic_Conditions  1000 non-null   object \n",
      " 5   Weather             1000 non-null   object \n",
      " 6   Trip_Price          983 non-null    float64\n",
      "dtypes: float64(3), object(4)\n",
      "memory usage: 54.8+ KB\n"
     ]
    }
   ],
   "source": [
    "taxidata.df.info()"
   ]
  },
  {
   "cell_type": "code",
   "execution_count": 10,
   "id": "e1de85d4",
   "metadata": {},
   "outputs": [
    {
     "data": {
      "text/plain": [
       "0    97.7\n",
       "1     2.3\n",
       "Name: proportion, dtype: float64"
      ]
     },
     "execution_count": 10,
     "metadata": {},
     "output_type": "execute_result"
    }
   ],
   "source": [
    "taxidata.df.isnull().sum(axis=1).value_counts(normalize=True)*100 "
   ]
  },
  {
   "cell_type": "markdown",
   "id": "0355e7e1",
   "metadata": {},
   "source": [
    "### Dropping 2.3% of the dataset\n",
    "ive decided that dropping the 2.3% of the dataset that contains 2 null values per row is an acceptable loss.\n",
    "reson being the dropped columns have to much importance in the data to retain the rows with the values missing."
   ]
  },
  {
   "cell_type": "code",
   "execution_count": 11,
   "id": "d0d82ef7",
   "metadata": {},
   "outputs": [
    {
     "name": "stdout",
     "output_type": "stream",
     "text": [
      "<class 'pandas.core.frame.DataFrame'>\n",
      "Index: 977 entries, 0 to 999\n",
      "Data columns (total 7 columns):\n",
      " #   Column              Non-Null Count  Dtype  \n",
      "---  ------              --------------  -----  \n",
      " 0   Trip_Distance_km    977 non-null    float64\n",
      " 1   Time_of_Day         977 non-null    object \n",
      " 2   Day_of_Week         977 non-null    object \n",
      " 3   Passenger_Count     977 non-null    float64\n",
      " 4   Traffic_Conditions  977 non-null    object \n",
      " 5   Weather             977 non-null    object \n",
      " 6   Trip_Price          977 non-null    float64\n",
      "dtypes: float64(3), object(4)\n",
      "memory usage: 61.1+ KB\n"
     ]
    }
   ],
   "source": [
    "taxidata.df = taxidata.df.dropna()\n",
    "taxidata.df.info()"
   ]
  },
  {
   "cell_type": "markdown",
   "id": "ef5a8bf0",
   "metadata": {},
   "source": [
    "### Exporting to csv\n",
    "exporting the new dataset to csv for ingesting into the real price predicting ml model"
   ]
  },
  {
   "cell_type": "code",
   "execution_count": 12,
   "id": "44bebddb",
   "metadata": {},
   "outputs": [],
   "source": [
    "taxidata.to_csv(ALTERED_CSV_PATH)"
   ]
  },
  {
   "cell_type": "markdown",
   "id": "4c48dc8b",
   "metadata": {},
   "source": [
    "### Testing new dataset\n",
    "just simply loading it in for test purposes"
   ]
  },
  {
   "cell_type": "code",
   "execution_count": 13,
   "id": "1212d495",
   "metadata": {},
   "outputs": [
    {
     "name": "stdout",
     "output_type": "stream",
     "text": [
      "<class 'pandas.core.frame.DataFrame'>\n",
      "RangeIndex: 977 entries, 0 to 976\n",
      "Data columns (total 7 columns):\n",
      " #   Column              Non-Null Count  Dtype  \n",
      "---  ------              --------------  -----  \n",
      " 0   Trip_Distance_km    977 non-null    float64\n",
      " 1   Time_of_Day         977 non-null    object \n",
      " 2   Day_of_Week         977 non-null    object \n",
      " 3   Passenger_Count     977 non-null    float64\n",
      " 4   Traffic_Conditions  977 non-null    object \n",
      " 5   Weather             977 non-null    object \n",
      " 6   Trip_Price          977 non-null    float64\n",
      "dtypes: float64(3), object(4)\n",
      "memory usage: 53.6+ KB\n"
     ]
    }
   ],
   "source": [
    "import pandas as pd\n",
    "df = pd.read_csv(ALTERED_CSV_PATH)\n",
    "df.info()"
   ]
  }
 ],
 "metadata": {
  "kernelspec": {
   "display_name": "taxipred",
   "language": "python",
   "name": "python3"
  },
  "language_info": {
   "codemirror_mode": {
    "name": "ipython",
    "version": 3
   },
   "file_extension": ".py",
   "mimetype": "text/x-python",
   "name": "python",
   "nbconvert_exporter": "python",
   "pygments_lexer": "ipython3",
   "version": "3.11.5"
  }
 },
 "nbformat": 4,
 "nbformat_minor": 5
}
